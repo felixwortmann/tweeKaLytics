{
 "cells": [
  {
   "cell_type": "markdown",
   "metadata": {},
   "source": [
    "## Imports"
   ]
  },
  {
   "cell_type": "code",
   "execution_count": null,
   "metadata": {},
   "outputs": [],
   "source": [
    "from pymongo import MongoClient\n",
    "from bson.json_util import loads, dumps\n",
    "import json\n",
    "import nltk\n",
    "from nltk.corpus import stopwords\n",
    "import collections"
   ]
  },
  {
   "cell_type": "markdown",
   "metadata": {},
   "source": [
    "## Stopwords"
   ]
  },
  {
   "cell_type": "code",
   "execution_count": null,
   "metadata": {},
   "outputs": [],
   "source": [
    "nltk.download('stopwords')\n",
    "stop_words = stopwords.words('english')"
   ]
  },
  {
   "cell_type": "markdown",
   "metadata": {},
   "source": [
    "## Connecting to database"
   ]
  },
  {
   "cell_type": "code",
   "execution_count": null,
   "metadata": {},
   "outputs": [],
   "source": [
    "client = MongoClient('mongodb://localhost:27017')\n",
    "db = client['twitter']\n",
    "collection = db['tweets']"
   ]
  },
  {
   "cell_type": "markdown",
   "metadata": {},
   "source": [
    "## Get data"
   ]
  },
  {
   "cell_type": "code",
   "execution_count": null,
   "metadata": {},
   "outputs": [],
   "source": [
    "#data = json.loads(dumps(collection.find()))\n",
    "\n",
    "\n",
    "with open(\"5000.json\", \"r\", encoding=\"utf-8\") as f:\n",
    "    data = json.loads(f.read())"
   ]
  },
  {
   "cell_type": "markdown",
   "metadata": {},
   "source": [
    "## Rausfiltern der Tweet-Inhalte\n",
    "{\n",
    "    ('word', 'year'): #count\n",
    "}"
   ]
  },
  {
   "cell_type": "code",
   "execution_count": null,
   "metadata": {},
   "outputs": [],
   "source": [
    "text_strings = []\n",
    "for d in data:\n",
    "    if \"text\" in d.keys():\n",
    "        text_strings += [d[\"text\"]]\n",
    "\n",
    "words_dict = {}\n",
    "for d in data:\n",
    "    if not \"text\" in d.keys() or not \"user\" in d.keys() or not \"created_at\" in d[\"user\"].keys() or d[\"user\"][\"created_at\"] == None:\n",
    "        continue\n",
    "    text = d[\"text\"].lower()\n",
    "    created = d[\"user\"][\"created_at\"][-4:]\n",
    "    \n",
    "    for word in text.split(' '):\n",
    "        pair = (word, created)\n",
    "        if pair in words_dict.keys():\n",
    "            words_dict[pair] += 1\n",
    "        else:\n",
    "            words_dict[pair] = 1\n",
    "words_dict"
   ]
  },
  {
   "cell_type": "markdown",
   "metadata": {},
   "source": [
    "## Wort-Jahr-Anzahl"
   ]
  },
  {
   "cell_type": "code",
   "execution_count": null,
   "metadata": {},
   "outputs": [],
   "source": [
    "ignore_words = stop_words + ['rt', '', '-', '&amp;', 'like', 'get', 'one', 'via', 'new', 'i\\'m', 'rt']\n",
    "words = [(k,v) for k, v in sorted(words_dict.items(), key=lambda item: -item[1]) if k[0] not in ignore_words]\n",
    "words[:10]"
   ]
  },
  {
   "cell_type": "markdown",
   "metadata": {},
   "source": [
    "## Top-10 Wörter pro Jahr der Account-Erstellung"
   ]
  },
  {
   "cell_type": "code",
   "execution_count": null,
   "metadata": {},
   "outputs": [],
   "source": [
    "result = {}\n",
    "\n",
    "for pair in words_dict.keys():\n",
    "    word, year = pair\n",
    "    amount = (word, words_dict[pair])\n",
    "    \n",
    "    if year in result.keys():              \n",
    "        result[year] = result[year] + [(word, words_dict[pair])]\n",
    "            \n",
    "    else:\n",
    "        result[year] = [(word, words_dict[pair])]\n",
    "\n",
    "for year in sorted(result.keys()):\n",
    "    print(year)\n",
    "    value = result[year]\n",
    "    r = [(k,v) for k, v in sorted(value, key=lambda item: -item[1]) if k not in ignore_words]\n",
    "    for x in r[:10]:\n",
    "        print(\"    \", x[0],\":\", x[1])"
   ]
  },
  {
   "cell_type": "markdown",
   "metadata": {},
   "source": [
    "## Durchschnittliches Alter der Accounts"
   ]
  },
  {
   "cell_type": "code",
   "execution_count": null,
   "metadata": {},
   "outputs": [],
   "source": [
    "years = [int(year) for d in data if \"user\" in d.keys() for year in [d[\"user\"][\"created_at\"][-4:]]]\n",
    "sum(years) / len(years)"
   ]
  },
  {
   "cell_type": "code",
   "execution_count": null,
   "metadata": {},
   "outputs": [],
   "source": []
  }
 ],
 "metadata": {
  "kernelspec": {
   "display_name": "Python 3",
   "language": "python",
   "name": "python3"
  },
  "language_info": {
   "codemirror_mode": {
    "name": "ipython",
    "version": 3
   },
   "file_extension": ".py",
   "mimetype": "text/x-python",
   "name": "python",
   "nbconvert_exporter": "python",
   "pygments_lexer": "ipython3",
   "version": "3.8.5"
  }
 },
 "nbformat": 4,
 "nbformat_minor": 4
}
