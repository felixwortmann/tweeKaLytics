{
 "cells": [
  {
   "cell_type": "markdown",
   "metadata": {},
   "source": [
    "# Auswertung von Tweets nach der Wahlnacht\n",
    "\n",
    "Im Folgenden werden Tweets, die am Tag und in der Nacht nach der Wahlnacht 2020 in den USA versendet wurden, analysiert. Es wurden nicht alle Tweets festgehalten.<br><br>\n",
    "Die Tweets wurden nach den Keywords: Trump, Biden und Election gefiltert."
   ]
  },
  {
   "cell_type": "markdown",
   "metadata": {},
   "source": [
    "## Imports"
   ]
  },
  {
   "cell_type": "markdown",
   "metadata": {},
   "source": [
    "`pip3 install -r requirements.txt`"
   ]
  },
  {
   "cell_type": "code",
   "execution_count": 27,
   "metadata": {},
   "outputs": [],
   "source": [
    "from pymongo import MongoClient\n",
    "from bson.json_util import loads, dumps\n",
    "import json\n",
    "import nltk\n",
    "from nltk.corpus import stopwords\n",
    "import collections\n",
    "import matplotlib.pyplot as plt\n",
    "import numpy as np\n",
    "from IPython.display import display, Math, Latex"
   ]
  },
  {
   "cell_type": "markdown",
   "metadata": {},
   "source": [
    "## Füllwörter"
   ]
  },
  {
   "cell_type": "code",
   "execution_count": 2,
   "metadata": {},
   "outputs": [
    {
     "name": "stderr",
     "output_type": "stream",
     "text": [
      "[nltk_data] Downloading package stopwords to\n",
      "[nltk_data]     /Users/felixwortmann/nltk_data...\n",
      "[nltk_data]   Package stopwords is already up-to-date!\n"
     ]
    }
   ],
   "source": [
    "nltk.download('stopwords')\n",
    "stop_words = stopwords.words('english')"
   ]
  },
  {
   "cell_type": "markdown",
   "metadata": {},
   "source": [
    "## Datenbankverbindung herstellen\n",
    "Es wurde ein Docker-Container für die MongoDB gestartet mit Port 27017. Die Daten werden mit Python-Skripts in die Datenbank geladen, indem zuerst ein Skript die Daten von der API anfragt und mittels Apache Kafka zwischenspeichert. Von dort aus werden die Daten nacheinander in die Datenbank eingefügt sodass letztlich in diesem Notebook darauf zugegriffen werden kann."
   ]
  },
  {
   "cell_type": "code",
   "execution_count": 3,
   "metadata": {},
   "outputs": [],
   "source": [
    "client = MongoClient('mongodb://localhost:27017')\n",
    "db = client['twitter']\n",
    "collection = db['tweets']"
   ]
  },
  {
   "cell_type": "markdown",
   "metadata": {},
   "source": [
    "## Daten laden"
   ]
  },
  {
   "cell_type": "markdown",
   "metadata": {},
   "source": [
    "Daten direkt aus Datenbank laden"
   ]
  },
  {
   "cell_type": "code",
   "execution_count": 4,
   "metadata": {},
   "outputs": [],
   "source": [
    "data = json.loads(dumps(collection.find()))"
   ]
  },
  {
   "cell_type": "markdown",
   "metadata": {},
   "source": [
    "Daten aus Test-Datei mit 50.000 Einträgen laden"
   ]
  },
  {
   "cell_type": "code",
   "execution_count": 5,
   "metadata": {},
   "outputs": [],
   "source": [
    "with open(\"50000.json\", \"r\", encoding=\"utf-8\") as f:\n",
    "    data = json.loads(f.read())"
   ]
  },
  {
   "cell_type": "markdown",
   "metadata": {},
   "source": [
    "## Rausfiltern der Tweet-Inhalte\n",
    "{\n",
    "    ('word', 'year'): #count\n",
    "}"
   ]
  },
  {
   "cell_type": "code",
   "execution_count": 6,
   "metadata": {},
   "outputs": [],
   "source": [
    "text_strings = []\n",
    "for d in data:\n",
    "    if \"text\" in d.keys():\n",
    "        text_strings += [d[\"text\"]]\n",
    "\n",
    "words_dict = {}\n",
    "for d in data:\n",
    "    if not \"text\" in d.keys() or not \"user\" in d.keys() or not \"created_at\" in d[\"user\"].keys() or d[\"user\"][\"created_at\"] == None:\n",
    "        continue\n",
    "    text = d[\"text\"].lower()\n",
    "    created = d[\"user\"][\"created_at\"][-4:]\n",
    "    \n",
    "    for word in text.split(' '):\n",
    "        pair = (word, created)\n",
    "        if pair in words_dict.keys():\n",
    "            words_dict[pair] += 1\n",
    "        else:\n",
    "            words_dict[pair] = 1"
   ]
  },
  {
   "cell_type": "markdown",
   "metadata": {},
   "source": [
    "## Wort-Jahr-Anzahl"
   ]
  },
  {
   "cell_type": "code",
   "execution_count": 7,
   "metadata": {},
   "outputs": [
    {
     "data": {
      "text/plain": [
       "[(('trump', '2020'), 2225),\n",
       " (('biden', '2020'), 1501),\n",
       " (('trump', '2009'), 1436),\n",
       " (('trump', '2011'), 1234),\n",
       " (('trump', '2019'), 1156),\n",
       " (('trump', '2012'), 1128),\n",
       " (('trump', '2017'), 1083),\n",
       " (('trump', '2018'), 1061),\n",
       " (('trump', '2013'), 1042),\n",
       " (('trump', '2016'), 986)]"
      ]
     },
     "execution_count": 7,
     "metadata": {},
     "output_type": "execute_result"
    }
   ],
   "source": [
    "ignore_words = stop_words + ['rt', '', '-', '&amp;', 'like', 'get', 'one', 'via', 'new', 'i\\'m', 'rt']\n",
    "words = [(k,v) for k, v in sorted(words_dict.items(), key=lambda item: -item[1]) if k[0] not in ignore_words]\n",
    "words[:10]"
   ]
  },
  {
   "cell_type": "markdown",
   "metadata": {},
   "source": [
    "## Top-5 Wörter pro Jahr der Account-Erstellung"
   ]
  },
  {
   "cell_type": "code",
   "execution_count": 29,
   "metadata": {},
   "outputs": [
    {
     "name": "stdout",
     "output_type": "stream",
     "text": [
      "2006\n",
      "     que : 4\n",
      "     @amandamull: : 3\n",
      "     need : 3\n",
      "     say : 3\n",
      "     loud: : 3\n",
      "2007\n",
      "     biden : 39\n",
      "     trump : 34\n",
      "     election : 17\n",
      "     electoral : 14\n",
      "     donald : 9\n",
      "2008\n",
      "     trump : 286\n",
      "     biden : 209\n",
      "     election : 117\n",
      "     votes : 78\n",
      "     vote : 69\n",
      "2009\n",
      "     trump : 1436\n",
      "     biden : 970\n",
      "     election : 669\n",
      "     votes : 361\n",
      "     joe : 344\n",
      "2010\n",
      "     trump : 963\n",
      "     biden : 671\n",
      "     election : 345\n",
      "     de : 314\n",
      "     que : 280\n",
      "2011\n",
      "     trump : 1234\n",
      "     biden : 811\n",
      "     election : 565\n",
      "     votes : 338\n",
      "     de : 320\n",
      "2012\n",
      "     trump : 1128\n",
      "     biden : 925\n",
      "     election : 533\n",
      "     votes : 306\n",
      "     de : 284\n",
      "2013\n",
      "     trump : 1042\n",
      "     biden : 703\n",
      "     election : 421\n",
      "     votes : 272\n",
      "     de : 260\n",
      "2014\n",
      "     trump : 907\n",
      "     biden : 630\n",
      "     election : 417\n",
      "     votes : 235\n",
      "     vote : 233\n",
      "2015\n",
      "     trump : 863\n",
      "     biden : 622\n",
      "     election : 357\n",
      "     votes : 240\n",
      "     vote : 219\n",
      "2016\n",
      "     trump : 986\n",
      "     biden : 751\n",
      "     election : 450\n",
      "     votes : 248\n",
      "     vote : 237\n",
      "2017\n",
      "     trump : 1083\n",
      "     biden : 699\n",
      "     election : 469\n",
      "     votes : 271\n",
      "     vote : 239\n",
      "2018\n",
      "     trump : 1061\n",
      "     biden : 723\n",
      "     election : 394\n",
      "     votes : 260\n",
      "     de : 234\n",
      "2019\n",
      "     trump : 1156\n",
      "     biden : 890\n",
      "     election : 408\n",
      "     de : 349\n",
      "     joe : 242\n",
      "2020\n",
      "     trump : 2225\n",
      "     biden : 1501\n",
      "     election : 836\n",
      "     de : 543\n",
      "     votes : 450\n"
     ]
    }
   ],
   "source": [
    "result = {}\n",
    "\n",
    "for pair in words_dict.keys():\n",
    "    word, year = pair\n",
    "    amount = (word, words_dict[pair])\n",
    "    \n",
    "    if year in result.keys():              \n",
    "        result[year] = result[year] + [(word, words_dict[pair])]\n",
    "            \n",
    "    else:\n",
    "        result[year] = [(word, words_dict[pair])]\n",
    "\n",
    "for year in sorted(result.keys()):\n",
    "    print(year)\n",
    "    value = result[year]\n",
    "    r = [(k,v) for k, v in sorted(value, key=lambda item: -item[1]) if k not in ignore_words]\n",
    "    for x in r[:5]:\n",
    "        print(\"    \", x[0],\":\", x[1])"
   ]
  },
  {
   "cell_type": "markdown",
   "metadata": {},
   "source": [
    "## Durchschnittliches Alter der Accounts"
   ]
  },
  {
   "cell_type": "code",
   "execution_count": 30,
   "metadata": {},
   "outputs": [
    {
     "data": {
      "text/plain": [
       "2014.5543768742732"
      ]
     },
     "execution_count": 30,
     "metadata": {},
     "output_type": "execute_result"
    }
   ],
   "source": [
    "years = [int(year) for d in data if \"user\" in d.keys() for year in [d[\"user\"][\"created_at\"][-4:]]]\n",
    "sum(years) / len(years)"
   ]
  },
  {
   "cell_type": "markdown",
   "metadata": {},
   "source": [
    "## Plotting von Daten"
   ]
  },
  {
   "cell_type": "markdown",
   "metadata": {},
   "source": [
    "Beispiel: Jahr der Account-Erstellung vs. Verwendung eines Wortes"
   ]
  },
  {
   "cell_type": "markdown",
   "metadata": {},
   "source": [
    "Hilfsmethoden"
   ]
  },
  {
   "cell_type": "code",
   "execution_count": 33,
   "metadata": {},
   "outputs": [],
   "source": [
    "def words_by_account_year(word_set):\n",
    "    word_result = {}\n",
    "    for y in result.keys():\n",
    "        for w,c in result[y]:\n",
    "            if w in word_set:\n",
    "                if y in word_result.keys():\n",
    "                    word_result[y] += c\n",
    "                else:\n",
    "                    word_result[y] = c\n",
    "    return [(y, word_result[y]) for y in sorted(word_result)]\n",
    "\n",
    "def plot_by_account_year(word_set):\n",
    "    wl = words_by_account_year(word_set)\n",
    "    group_names = list([k for k,v in wl])\n",
    "    group_data = list([v for k,v in wl])\n",
    "    return group_names,group_data"
   ]
  },
  {
   "cell_type": "markdown",
   "metadata": {},
   "source": [
    "<div style=\"page-break-after: always;\"></div>\n",
    "\n",
    "### Untersuchung von Wörtern: \n",
    "{\n",
    "\"fraud\",\n",
    "\"lie\",\n",
    "\"steal\",\n",
    "\"cheating\",\n",
    "\"swindling\",\n",
    "\"desception\",\n",
    "\"trickery\",\n",
    "\"illegal\"\n",
    "}"
   ]
  },
  {
   "cell_type": "code",
   "execution_count": 35,
   "metadata": {
    "scrolled": true
   },
   "outputs": [
    {
     "data": {
      "text/plain": [
       "<BarContainer object of 14 artists>"
      ]
     },
     "execution_count": 35,
     "metadata": {},
     "output_type": "execute_result"
    },
    {
     "data": {
      "image/png": "[encoded data removed]",
      "text/plain": [
       "<Figure size 432x288 with 1 Axes>"
      ]
     },
     "metadata": {
      "needs_background": "light"
     },
     "output_type": "display_data"
    }
   ],
   "source": [
    "fig, ax = plt.subplots()\n",
    "key_data, value_data = plot_by_account_year({\"fraud\",\"lie\",\"steal\",\"cheating\",\"swindling\",\"desception\",\"trickery\",\"illegal\"})\n",
    "ax.barh(key_data,value_data)"
   ]
  },
  {
   "cell_type": "markdown",
   "metadata": {},
   "source": [
    "### Folgerung"
   ]
  },
  {
   "cell_type": "markdown",
   "metadata": {},
   "source": [
    "Die Daten lassen vermuten, dass viele Accounts zur Zeit der Wahl erstellt wurden, um sich dazu zu äußern.\n",
    "<br><br>\n",
    "Im Jahr 2008 hat Barack Obama als Demokrat die Wahl gewonnen, woraufhin er 2009 Präsident wurde. Joe Biden war hier Vizepräsident<br> \n",
    "2020 hat Donald Trump die Wahl als Republikaner verloren. <br><br>\n",
    "\n",
    "Es ist zu vermuten, dass die Accounts, die damals erstellt wurden, einen Standpunkt vertreten, wie die Accounts von 2020. Die Wörter, nach denen wir gesucht haben, lassen auch vermuten, dass die Accountinhaber die Wahlergebnisse nicht akzepieren.\n",
    "<br><br>\n",
    "Aufgrund der verhältnismäßig kleinen Datenmenge von nur 50.000 Tweets über einen kurzen Zeitraum, sind dies allerdings nur Vermutungen."
   ]
  },
  {
   "cell_type": "markdown",
   "metadata": {},
   "source": [
    "<div style=\"page-break-after: always;\"></div>\n",
    "\n",
    "### Untersuchung von Wörtern: \n",
    "{\n",
    "\"congratulations\",\n",
    "\"united\",\n",
    "\"party\",\n",
    "\"win\",\n",
    "\"president-elect\",\n",
    "\"elect\"\n",
    "}"
   ]
  },
  {
   "cell_type": "code",
   "execution_count": 37,
   "metadata": {},
   "outputs": [
    {
     "data": {
      "text/plain": [
       "<BarContainer object of 14 artists>"
      ]
     },
     "execution_count": 37,
     "metadata": {},
     "output_type": "execute_result"
    },
    {
     "data": {
      "image/png": "[encoded data removed]",
      "text/plain": [
       "<Figure size 432x288 with 1 Axes>"
      ]
     },
     "metadata": {
      "needs_background": "light"
     },
     "output_type": "display_data"
    }
   ],
   "source": [
    "fig, ax = plt.subplots()\n",
    "key_data, value_data = plot_by_account_year({\n",
    "\"congratulations\",\n",
    "\"united\",\n",
    "\"party\",\n",
    "\"win\",\n",
    "\"president-elect\",\n",
    "\"elect\"\n",
    "})\n",
    "ax.barh(key_data,value_data)"
   ]
  },
  {
   "cell_type": "markdown",
   "metadata": {},
   "source": [
    "### Folgerung\n",
    "\n",
    "Diese Ergebnisse untermauern die obige Vermutung, weil zwar die Suche bei allen Tweets nach \"Trump\",\"Biden\" und \"Election\" war, jedoch sind die Erstellungsdaten der Accounts relativ verteilt. Beispielsweise würden die zweitmeisten Accounts 2011 erstellt, wo keine Präsidentschaftswahl war.<br><br> Es liegt daher nicht nahe, dass die Accounts nur erstellt wurden, um über die Wahl zu Twittern."
   ]
  },
  {
   "cell_type": "code",
   "execution_count": null,
   "metadata": {},
   "outputs": [],
   "source": []
  }
 ],
 "metadata": {
  "kernelspec": {
   "display_name": "Python 3",
   "language": "python",
   "name": "python3"
  },
  "language_info": {
   "codemirror_mode": {
    "name": "ipython",
    "version": 3
   },
   "file_extension": ".py",
   "mimetype": "text/x-python",
   "name": "python",
   "nbconvert_exporter": "python",
   "pygments_lexer": "ipython3",
   "version": "3.8.5"
  }
 },
 "nbformat": 4,
 "nbformat_minor": 4
}
