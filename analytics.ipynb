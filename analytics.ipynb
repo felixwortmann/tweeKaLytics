{
 "cells": [
  {
   "cell_type": "markdown",
   "metadata": {},
   "source": [
    "# Big Data Analytics – Tweets zur Präsidentschaftswahl der USA\n",
    "Dieses Notebook zeigt das Vorgehen sowie das Ergebnis der Analyse von gesammelten Tweets, welche im Zeitraum der US-Präsidentschaftswahl geteilt wurden. Die folgende Tabelle zeigt die verschiedenen Komponenten der Analyse und deren Nutzen. Alle Dateien finden sich unter https://github.com/felixwortmann/tweeKaLytics sowie im Ordner neben diesem Notebook.\n",
    "\n",
    "| Komponente | Aufgabe | Datei |\n",
    "| --- | --- | --- |\n",
    "| api_request > request.py | Anfrage an Twitter-API schicken, um Tweets* zu erhalten | [request.py](https://github.com/felixwortmann/tweeKaLytics/blob/main/api_request/request.py) |\n",
    "| api_request > kafka_publish.py | Erhaltene Tweets an Kafka Queue schicken | [kafka_publish.py](https://github.com/felixwortmann/tweeKaLytics/blob/main/api_request/kafka_publish.py) |\n",
    "| kafka_consumer > consumer.py | Tweets aus Kafka Queue laden und in MongoDB importieren | [consumer.py](https://github.com/felixwortmann/tweeKaLytics/blob/main/kafka_consumer/consumer.py) |\n",
    "\n",
    "*Die Tweets werden nach den Schlagworten \"Trump\", \"Biden\" und \"Election\" gefiltert.\n",
    "\n",
    "### Starten und Ausführen der Docker-Container\n",
    "Die verschiedenen Komponenten sind mit Docker-Containern umgesetzt. Um diese zu starten und auszuführen, muss der Befehl `docker-compose up` ausgeführt werden.\n",
    "\n",
    "## Komponente: [request.py](https://github.com/felixwortmann/tweeKaLytics/blob/main/api_request/request.py)\n",
    "Zunächst wird die erste Komponente betrachtet, welche die Daten von der Twitter-API beschafft. Es musste zu diesem Zweck ein Twitter Developer Account erstellt werden, um den Zugriff auf die Schnittstelle mittels API-Keys zu gewährleisten. Das Python-Skript stellt eine Verbindung mit der API her, nachdem es die API-Keys aus einer (nicht im GitHub befindlichen) Text-Datei geladen hat. Schließlich wird ein `StreamListener` (aus der Bibliothek `tweepy`) erzeugt, welcher auf die API zugreift und den Stream startet. Nun werden alle Tweets mit den Schlagwörtern \"Trump\", \"Biden\" und \"Election\" von der API aus gesendet. In dieser Komponente wird außerdem die Methode `send_json` aus der, im Folgenden beschriebenen, Komponente `kafka_publish.py` aufgerufen.\n",
    "\n",
    "## Komponente: [kafka_publish.py](https://github.com/felixwortmann/tweeKaLytics/blob/main/api_request/kafka_publish.py)\n",
    "Diese Komponente beziehungsweise die einzige Methode in dieser Komponenten wird dann aufgerufen, wenn im Skript für die API-Anfrage Daten empfangen werden. Von der API wird eine JSON-Datei gesendet, welche nun von der Methode an den `KafkaProducer` (aus der Bibliothek `kafka`) gesendet werden. Hierfür werden die Daten an das topic \"tweets\" geschickt.\n",
    "\n",
    "## Komponente: [consumer.py](https://github.com/felixwortmann/tweeKaLytics/blob/main/kafka_consumer/consumer.py)\n",
    "Die dritte und letzte, für die Datenverarbeitung notwendige, Komponente ist für den Datenimport in die Datenbank. Die Entscheidung fiel für eine MongoDB, da der Umgang mit dieser aufgrund von Erfahrung keine große Schwierigkeit darstellte. Außerdem ist eine MongoDB eine adäquate Wahl für große Datenmengen (hu**mongo**us). Für diese Komponente wurden die Bibliotheken `pymongo` sowie erneut `kafka` verwendet. In dem Datenbanksystem wurde die Datenbank \"twitter\" und dort die Collection \"tweets\" erstellt. Der erste Schritt in diesem Skript ist die Beschaffung der Daten aus der Kafka Queue; hierfür wird mit einem `KafkaConsumer` auf das Topic \"tweets\" zugegriffen. Eine for-Schleife iteriert dann über die im Consumer befindlichen Messages und fügt diese in die Collection ein.\n",
    "\n",
    "## Containerisierung\n",
    "Um die verschiedenen Komponenten laufen zu lassen, wurden Docker Container angelegt. Die [docker-compose.yml](https://github.com/felixwortmann/tweeKaLytics/blob/main/docker-compose.yml) zeigt die Erstellung der einzelnen Container.\n",
    "\n",
    "+ `kafka-service-tweekalytics`: Kafka Container\n",
    "+ `zookeeper`: Zookeeper, nötig für Kafka\n",
    "+ `python-api-request`: Skript für die API-Anfrage & Importierung nach Kafka\n",
    "+ `python-kafka-consumer`: Skript für Datenbeschaffung aus Kafka & Importierung nach MongoDB\n",
    "+ `database`: MongoDB Container"
   ]
  },
  {
   "cell_type": "markdown",
   "metadata": {},
   "source": [
    "<div style=\"page-break-after: always;\"></div>\n",
    "\n",
    "### Imports"
   ]
  },
  {
   "cell_type": "markdown",
   "metadata": {},
   "source": [
    "`pip3 install -r requirements.txt`"
   ]
  },
  {
   "cell_type": "code",
   "execution_count": 1,
   "metadata": {},
   "outputs": [],
   "source": [
    "from pymongo import MongoClient\n",
    "from bson.json_util import loads, dumps\n",
    "import json\n",
    "import nltk\n",
    "from nltk.corpus import stopwords\n",
    "import collections\n",
    "import matplotlib.pyplot as plt\n",
    "import numpy as np\n",
    "from IPython.display import display, Math, Latex"
   ]
  },
  {
   "cell_type": "markdown",
   "metadata": {},
   "source": [
    "### Füllwörter\n",
    "Dieses Paket liefert englische Füllwörter, welche später bei der Analyse ignoriert werden sollen. Außerdem werden eigene Wörter, welche bei der Analyse auffielen und als unnötig betrachtet wurden, hinzugefügt."
   ]
  },
  {
   "cell_type": "code",
   "execution_count": 2,
   "metadata": {},
   "outputs": [
    {
     "name": "stderr",
     "output_type": "stream",
     "text": [
      "[nltk_data] Downloading package stopwords to\n",
      "[nltk_data]     /Users/felixwortmann/nltk_data...\n",
      "[nltk_data]   Package stopwords is already up-to-date!\n"
     ]
    }
   ],
   "source": [
    "nltk.download('stopwords')\n",
    "stop_words = set(stopwords.words('english'))\n",
    "ignore_words = stop_words | {'rt', '', '-', '&amp;', 'like', 'get', 'one', 'via', 'new', 'i\\'m'}"
   ]
  },
  {
   "cell_type": "markdown",
   "metadata": {},
   "source": [
    "### Datenbankverbindung herstellen\n",
    "Es wurde ein Docker-Container für die MongoDB gestartet mit Port 27017. Hier wird nun die Verbindung auf die Collection \"tweets\" der Datenbank \"twitter\" hergestellt."
   ]
  },
  {
   "cell_type": "code",
   "execution_count": 3,
   "metadata": {},
   "outputs": [],
   "source": [
    "client = MongoClient('mongodb://localhost:27017')\n",
    "db = client['twitter']\n",
    "collection = db['tweets']"
   ]
  },
  {
   "cell_type": "markdown",
   "metadata": {},
   "source": [
    "### Daten laden\n",
    "Nun werden die Daten in Form von JSON-Dateien aus der Datenbank geladen und in der Variable `data` gespeichert."
   ]
  },
  {
   "cell_type": "code",
   "execution_count": 4,
   "metadata": {},
   "outputs": [
    {
     "data": {
      "text/plain": [
       "437512"
      ]
     },
     "execution_count": 4,
     "metadata": {},
     "output_type": "execute_result"
    }
   ],
   "source": [
    "data = json.loads(dumps(collection.find()))\n",
    "len(data)"
   ]
  },
  {
   "cell_type": "markdown",
   "metadata": {},
   "source": [
    "<div style=\"page-break-after: always;\"></div>\n",
    "\n",
    "### Rausfiltern der Tweet-Inhalte\n",
    "Nun werden alle Tweets verarbeitet, indem die Tweet-Inhalte als Liste `text_strings` gespeichert werden."
   ]
  },
  {
   "cell_type": "code",
   "execution_count": 5,
   "metadata": {},
   "outputs": [],
   "source": [
    "text_strings = []\n",
    "for d in data:\n",
    "    if \"text\" in d.keys():\n",
    "        text_strings += [d[\"text\"]]"
   ]
  },
  {
   "cell_type": "markdown",
   "metadata": {},
   "source": [
    "Anschließend wird das Dictionary `words_dict` erzeugt, welche die verwendeten Wörter in Verbindung mit dem Jahr der Erstellung des zugehörigen Twitter-Accounts (im Folgenden aus Gründen der besseren Lesbarkeit einfach als \"Jahr\" bezeichnet) auf deren Häufigkeit zuweist. Es wird also gespeichert, wie oft jegliche Kombination aus Wort und Jahr auftritt."
   ]
  },
  {
   "cell_type": "code",
   "execution_count": 6,
   "metadata": {},
   "outputs": [],
   "source": [
    "words_dict = {}\n",
    "for d in data:\n",
    "    if not \"text\" in d.keys() or not \"user\" in d.keys() or not \"created_at\" in d[\"user\"].keys() or d[\"user\"][\"created_at\"] == None:\n",
    "        continue\n",
    "    text = d[\"text\"].lower()\n",
    "    created = d[\"user\"][\"created_at\"][-4:]\n",
    "    \n",
    "    for word in text.split(' '):\n",
    "        pair = (word, created)\n",
    "        if pair in words_dict.keys():\n",
    "            words_dict[pair] += 1\n",
    "        else:\n",
    "            words_dict[pair] = 1"
   ]
  },
  {
   "cell_type": "markdown",
   "metadata": {},
   "source": [
    "<div style=\"page-break-after: always;\"></div>\n",
    "\n",
    "### Top-3 Wörter pro Jahr der Account-Erstellung\n",
    "Im Folgenden findet die erste Analyse durchgeführt. Dazu wird das zuvor erstellte Dictionary bezüglich der Häufigkeiten von Wort/Jahr Kombinationen verwendet. Es wird nun betrachtet, welches die drei am häufigsten verwendeten Wörter pro Jahr der Account-Erstellung sind."
   ]
  },
  {
   "cell_type": "code",
   "execution_count": 7,
   "metadata": {},
   "outputs": [
    {
     "name": "stdout",
     "output_type": "stream",
     "text": [
      "2006     trump : 24     donald : 15     biden : 12\n",
      "2007     trump : 513     biden : 364     joe : 163\n",
      "2008     trump : 2354     biden : 1787     election : 1078\n",
      "2009     trump : 11680     biden : 8994     election : 5616\n",
      "2010     trump : 6571     biden : 4845     de : 2949\n",
      "2011     trump : 8837     biden : 6020     election : 4127\n",
      "2012     trump : 9107     biden : 6554     election : 4301\n",
      "2013     trump : 7086     biden : 5225     election : 3178\n",
      "2014     trump : 5873     biden : 4272     election : 2914\n",
      "2015     trump : 5879     biden : 4502     election : 3172\n",
      "2016     trump : 8186     biden : 5769     election : 4406\n",
      "2017     trump : 8648     biden : 6083     election : 4478\n",
      "2018     trump : 7291     biden : 4973     election : 3733\n",
      "2019     trump : 8761     biden : 6328     election : 3979\n",
      "2020     trump : 17613     biden : 12741     election : 9049\n"
     ]
    }
   ],
   "source": [
    "result = {}\n",
    "\n",
    "for pair in words_dict.keys():\n",
    "    word, year = pair\n",
    "    amount = (word, words_dict[pair])\n",
    "    \n",
    "    if year in result.keys():              \n",
    "        result[year] = result[year] + [(word, words_dict[pair])]\n",
    "            \n",
    "    else:\n",
    "        result[year] = [(word, words_dict[pair])]\n",
    "\n",
    "for year in sorted(result.keys()):\n",
    "    print(year, end=\"\")\n",
    "    value = result[year]\n",
    "    r = [(k,v) for k, v in sorted(value, key=lambda item: -item[1]) if k not in ignore_words]\n",
    "    for x in r[:3]:\n",
    "        print(\"    \", x[0],\":\", x[1], end=\"\")\n",
    "    print(\"\")"
   ]
  },
  {
   "cell_type": "markdown",
   "metadata": {},
   "source": [
    "### Durchschnittliches Alter der Accounts\n",
    "Für spätere Vergleiche wird an dieser Stelle das durchschnittliche Alter der Twitter-Accounts (von den hier analysierten Tweets) berechnet."
   ]
  },
  {
   "cell_type": "code",
   "execution_count": 8,
   "metadata": {},
   "outputs": [
    {
     "data": {
      "text/plain": [
       "2014.6281741628043"
      ]
     },
     "execution_count": 8,
     "metadata": {},
     "output_type": "execute_result"
    }
   ],
   "source": [
    "years = [int(year) for d in data if \"user\" in d.keys() for year in [d[\"user\"][\"created_at\"][-4:]]]\n",
    "sum(years) / len(years)"
   ]
  },
  {
   "cell_type": "markdown",
   "metadata": {},
   "source": [
    "Somit liegt das durchschnittliche Alter der hier betrachteten Accounts bei ~5,5 Jahren."
   ]
  },
  {
   "cell_type": "markdown",
   "metadata": {},
   "source": [
    "### Tiefere Analyse der Tweets"
   ]
  },
  {
   "cell_type": "markdown",
   "metadata": {},
   "source": [
    "Die folgenden zwei Methoden sind Hilfsmethoden zur im Folgenden erklärten Analyse der Tweets."
   ]
  },
  {
   "cell_type": "code",
   "execution_count": 9,
   "metadata": {},
   "outputs": [],
   "source": [
    "def words_by_account_year(word_set):\n",
    "    word_result = {}\n",
    "    for y in result.keys():\n",
    "        for w,c in result[y]:\n",
    "            if w in word_set:\n",
    "                if y in word_result.keys():\n",
    "                    word_result[y] += c\n",
    "                else:\n",
    "                    word_result[y] = c\n",
    "    return [(y, word_result[y]) for y in sorted(word_result)]\n",
    "\n",
    "def plot_by_account_year(word_set):\n",
    "    wl = words_by_account_year(word_set)\n",
    "    group_names = list([k for k,v in wl])\n",
    "    group_data = list([v for k,v in wl])\n",
    "    return group_names,group_data"
   ]
  },
  {
   "cell_type": "markdown",
   "metadata": {},
   "source": [
    "<div style=\"page-break-after: always;\"></div>\n",
    "\n",
    "### Untersuchung von Wörtern: \n",
    "Die hier definierten Wörter stehen primär in Verbindung mit dem Vorwurf eines Wahlbetrugs.\n",
    "\n",
    "+ fraud\n",
    "+ lie\n",
    "+ steal\n",
    "+ cheating\n",
    "+ swindling\n",
    "+ desception\n",
    "+ trickery\n",
    "+ illegal\n",
    "+ voterfraud\n",
    "\n",
    "Im Folgenden wird die Verteilung zwischen Anzahl der Tweets, welche eines der definierten Wörter verwenden und dem Jahr der Account-Erstellung des zugehörigen Tweets untersucht."
   ]
  },
  {
   "cell_type": "code",
   "execution_count": 10,
   "metadata": {
    "scrolled": true
   },
   "outputs": [
    {
     "data": {
      "text/plain": [
       "<BarContainer object of 15 artists>"
      ]
     },
     "execution_count": 10,
     "metadata": {},
     "output_type": "execute_result"
    },
    {
     "data": {
      "image/png": "[encoded data removed]",
      "text/plain": [
       "<Figure size 432x288 with 1 Axes>"
      ]
     },
     "metadata": {
      "needs_background": "light"
     },
     "output_type": "display_data"
    }
   ],
   "source": [
    "fraud_word_set = {\"fraud\",\"lie\",\"steal\",\"cheating\",\"swindling\",\"desception\",\"trickery\",\"illegal\",\n",
    "                  \"voterfraud\"}\n",
    "fig, ax = plt.subplots()\n",
    "key_data, value_data = plot_by_account_year(fraud_word_set)\n",
    "ax.barh(key_data,value_data)"
   ]
  },
  {
   "cell_type": "markdown",
   "metadata": {},
   "source": [
    "### Folgerung"
   ]
  },
  {
   "cell_type": "markdown",
   "metadata": {},
   "source": [
    "Die Daten lassen vermuten, dass viele Accounts zur Zeit der Wahl erstellt wurden, um sich eben dazu zu äußern.\n",
    "<br><br>\n",
    "Im Jahr 2008 hat Barack Obama als Demokrat die Wahl gewonnen, woraufhin er 2009 Präsident wurde. Joe Biden war hier Vizepräsident<br> \n",
    "2020 hat Donald Trump die Wahl als Republikaner verloren. <br><br>\n",
    "\n",
    "Es ist zu vermuten, dass die Accounts, die damals erstellt wurden, einen ähnlichen Standpunkt vertreten, wie die Accounts von 2020. Die Wörter, nach denen wir gesucht haben, lassen auch vermuten, dass die Accountinhaber die Wahlergebnisse nicht akzeptieren.\n",
    "<br><br>\n",
    "Aufgrund der verhältnismäßig kleinen Datenmenge, sind dies allerdings nur Vermutungen."
   ]
  },
  {
   "cell_type": "markdown",
   "metadata": {},
   "source": [
    "<div style=\"page-break-after: always;\"></div>\n",
    "\n",
    "### Untersuchung von Wörtern: \n",
    "\n",
    "Folgende Wörter werden als solche definiert, welche in Verbindung mit Glückwünschen an den neugewählten Präsidenten sowie generell positiven Aussagen stehen.\n",
    "\n",
    "\n",
    "+ congratulations  \n",
    "+ united  \n",
    "+ party  \n",
    "+ win  \n",
    "+ president-elect\n",
    "+ elect\n",
    "+ presidentelect\n",
    "- congrats\n",
    "\n",
    "Es folgt eine Analyse analog zu der Obigen, diesmal jedoch basierend auf den neu definierten Wörtern."
   ]
  },
  {
   "cell_type": "code",
   "execution_count": 11,
   "metadata": {},
   "outputs": [
    {
     "data": {
      "text/plain": [
       "<BarContainer object of 14 artists>"
      ]
     },
     "execution_count": 11,
     "metadata": {},
     "output_type": "execute_result"
    },
    {
     "data": {
      "image/png": "[encoded data removed]",
      "text/plain": [
       "<Figure size 432x288 with 1 Axes>"
      ]
     },
     "metadata": {
      "needs_background": "light"
     },
     "output_type": "display_data"
    }
   ],
   "source": [
    "congratulations_word_set = {\n",
    "    \"congratulations\",\n",
    "    \"united\",\n",
    "    \"party\",\n",
    "    \"win\",\n",
    "    \"president-elect\",\n",
    "    \"elect\",\n",
    "    \"presidentelect\",\n",
    "    \"congrats\"\n",
    "}\n",
    "fig, ax = plt.subplots()\n",
    "key_data, value_data = plot_by_account_year(congratulations_word_set)\n",
    "ax.barh(key_data,value_data)"
   ]
  },
  {
   "cell_type": "markdown",
   "metadata": {},
   "source": [
    "### Folgerung\n",
    "\n",
    "Diese Ergebnisse untermauern die obige Vermutung, weil zwar die Suche bei allen Tweets nach \"Trump\",\"Biden\" und \"Election\" war, die Erstellungsdaten der Accounts jedoch relativ verteilt sind. Während die \"Spikes\" zwar immer noch zu erkennen sind, ist der Abstand geringer und liegt daher nahe, dass viele der Accounts, die hier postivie Tweets verfassen, nicht extra für die Wahl erstellt wurden."
   ]
  },
  {
   "cell_type": "markdown",
   "metadata": {},
   "source": [
    "<div style=\"page-break-after: always;\"></div>\n",
    "\n",
    "### Analyse von Hashtags\n",
    "Im Folgenden werden die Hashtags und die jeweilige Häufigkeit des Auftretens dieser berechnet."
   ]
  },
  {
   "cell_type": "code",
   "execution_count": 12,
   "metadata": {},
   "outputs": [],
   "source": [
    "hashtag_dir = {}\n",
    "for tweet in data:\n",
    "    if \"entities\" in tweet.keys():\n",
    "        hashtags = tweet[\"entities\"][\"hashtags\"]\n",
    "        for hashtag in hashtags:\n",
    "            hashtag_text = hashtag[\"text\"].lower()\n",
    "            if hashtag_text not in hashtag_dir.keys():\n",
    "                hashtag_dir[hashtag_text] = 0\n",
    "            hashtag_dir[hashtag_text] += 1\n",
    "hashtag_dir = [(k,v) for k, v in sorted(hashtag_dir.items(), key=lambda item: -item[1]) if k not in ignore_words]"
   ]
  },
  {
   "cell_type": "markdown",
   "metadata": {},
   "source": [
    "### Herausfinden von Trump-freundlichen und Biden-Freundlichen Tweets\n",
    "Es ist per se schwierig herauszufinden, ob ein Tweet von einem Trump- oder einem Biden-Anhänger erstellt wurde. Als Richtwert dafür werden zwei Mengen von Hashtags definiert, welche einer der beiden Seiten leicht zugeordnet werden können."
   ]
  },
  {
   "cell_type": "code",
   "execution_count": 13,
   "metadata": {},
   "outputs": [],
   "source": [
    "trump_friendly_hashtags = {\n",
    "    \"trump2020\",\n",
    "    \"trumppence2020\",\n",
    "    \"obamagate\",\n",
    "    \"maga\",\n",
    "    \"maga2020\",\n",
    "    \"trump\",\n",
    "    \"donaldtrump\",\n",
    "    \"mikepence\"\n",
    "}\n",
    "biden_friendly_hashtags = {\n",
    "    \"biden2020\",\n",
    "    \"bidenharris2020\",\n",
    "    \"presidentelectbiden\",\n",
    "    \"bidenwin\",\n",
    "    \"biden\",\n",
    "    \"joebiden\",\n",
    "    \"kamalaharris\"\n",
    "}"
   ]
  },
  {
   "cell_type": "code",
   "execution_count": 14,
   "metadata": {},
   "outputs": [],
   "source": [
    "biden_tweets = []\n",
    "trump_tweets = []\n",
    "for tweet in data:\n",
    "    if \"entities\" in tweet.keys():\n",
    "        hashtags = tweet[\"entities\"][\"hashtags\"]\n",
    "        for hashtag in hashtags:\n",
    "            hashtag_text = hashtag[\"text\"].lower()\n",
    "            if hashtag_text  in biden_friendly_hashtags:\n",
    "                biden_tweets += [tweet[\"text\"]]\n",
    "            if hashtag_text in trump_friendly_hashtags:\n",
    "                trump_tweets += [tweet[\"text\"]]\n",
    "biden_words = [word for tweet in biden_tweets for word in tweet.split(' ')]\n",
    "trump_words = [word for tweet in trump_tweets for word in tweet.split(' ')]"
   ]
  },
  {
   "cell_type": "markdown",
   "metadata": {},
   "source": [
    "Die folgende Methode dient zur Berechnung der Häufigkeit von bestimmten Wörtern, einmal für Biden-freundliche und einmal für Trump-freundliche Tweets."
   ]
  },
  {
   "cell_type": "code",
   "execution_count": 15,
   "metadata": {},
   "outputs": [],
   "source": [
    "def occurrences(word_set):\n",
    "    return (len([word for word in biden_words if word in word_set]), len([word for word in trump_words if word in word_set]))"
   ]
  },
  {
   "cell_type": "markdown",
   "metadata": {},
   "source": [
    "Nun wird untersucht, wie die Verteilung bei der Verwendung von den oben definierten Wörtern, welche in Verbindung mit dem Vorwurf eines Wahlbetrugs stehen, lautet."
   ]
  },
  {
   "cell_type": "code",
   "execution_count": 16,
   "metadata": {},
   "outputs": [
    {
     "data": {
      "text/plain": [
       "<BarContainer object of 2 artists>"
      ]
     },
     "execution_count": 16,
     "metadata": {},
     "output_type": "execute_result"
    },
    {
     "data": {
      "image/png": "[encoded data removed]",
      "text/plain": [
       "<Figure size 432x288 with 1 Axes>"
      ]
     },
     "metadata": {
      "needs_background": "light"
     },
     "output_type": "display_data"
    }
   ],
   "source": [
    "fig, ax = plt.subplots()\n",
    "value_data = occurrences(fraud_word_set)\n",
    "ax.barh([\"Biden\", \"Trump\"], value_data)"
   ]
  },
  {
   "cell_type": "markdown",
   "metadata": {},
   "source": [
    "Es ist zu sehen, dass eine klare Mehrheit der Tweets, welche die negativ konnotierten Wörter in Verbindung mit einem Wahlbetrug, Hashtags enthalten, die darauf schließen lassen, dass es sich bei dem Ersteller um einen Trump-Anhänger handelt."
   ]
  },
  {
   "cell_type": "code",
   "execution_count": 17,
   "metadata": {
    "scrolled": true
   },
   "outputs": [
    {
     "data": {
      "text/plain": [
       "<BarContainer object of 2 artists>"
      ]
     },
     "execution_count": 17,
     "metadata": {},
     "output_type": "execute_result"
    },
    {
     "data": {
      "image/png": "[encoded data removed]",
      "text/plain": [
       "<Figure size 432x288 with 1 Axes>"
      ]
     },
     "metadata": {
      "needs_background": "light"
     },
     "output_type": "display_data"
    }
   ],
   "source": [
    "fig, ax = plt.subplots()\n",
    "value_data = occurrences(congratulations_word_set)\n",
    "ax.barh([\"Biden\", \"Trump\"], value_data)"
   ]
  },
  {
   "cell_type": "markdown",
   "metadata": {},
   "source": [
    "Bei den Wörtern, welche positiv konnotiert und in Verbindung mit Glückwünschen stehen, zeichnet sich erneut eine klare Mehrheit ab. Dieses mal jedoch handelt es sich bei den Tweet-Verfassern vermutlicherweise vorrangig um Biden-Unterstützer, was die verwendeten Hashtags naheliegen.\n",
    "\n",
    "Erneut ist zu erwähnen, dass die Analyse keineswegs tief genug respektive mit genügend Daten durchgeführt wird, um ein klares Fazit ziehen zu können. Es handelt sich lediglich um Vermutungen aufgrund der vorliegenden Daten."
   ]
  },
  {
   "cell_type": "markdown",
   "metadata": {},
   "source": [
    "<div style=\"page-break-after: always;\"></div>\n",
    "\n",
    "### Account-Alter von Trump- und Biden-Anhängern\n",
    "Schließlich wird untersucht, wann die Accounts von geteilten Tweets, welche entweder auf eine\\*n Biden-Unterstützer\\*in oder auf eine\\*n Trump-Unterstützer\\*in vermuten lassen, erstellt wurden."
   ]
  },
  {
   "cell_type": "code",
   "execution_count": 18,
   "metadata": {},
   "outputs": [],
   "source": [
    "trump_years = {}\n",
    "biden_years = {}\n",
    "for tweet in data:\n",
    "    if \"user\" in tweet.keys():\n",
    "        year = tweet[\"user\"][\"created_at\"][-4:]\n",
    "        if \"entities\" in tweet.keys():\n",
    "            hashtags = tweet[\"entities\"][\"hashtags\"]\n",
    "            for hashtag in hashtags:\n",
    "                hashtag_text = hashtag[\"text\"].lower()\n",
    "                if hashtag_text in biden_friendly_hashtags:\n",
    "                    if year in biden_years.keys():\n",
    "                        biden_years[year] += 1\n",
    "                    else:\n",
    "                        biden_years[year] = 1\n",
    "                if hashtag_text in trump_friendly_hashtags:\n",
    "                    if year in trump_years.keys():\n",
    "                        trump_years[year] += 1\n",
    "                    else:\n",
    "                        trump_years[year] = 1\n",
    "trump_years = [(y, trump_years[y]) for y in sorted(trump_years)]\n",
    "biden_years = [(y, biden_years[y]) for y in sorted(biden_years)]"
   ]
  },
  {
   "cell_type": "code",
   "execution_count": 19,
   "metadata": {},
   "outputs": [],
   "source": [
    "def created(trump):\n",
    "    if trump:\n",
    "        return (list([k for k, v in trump_years]), list([v for k, v in trump_years]))\n",
    "    return (list([k for k, v in biden_years]), list([v for k, v in biden_years]))"
   ]
  },
  {
   "cell_type": "markdown",
   "metadata": {},
   "source": [
    "Folgende Grafik zeigt die Verteilung der Account-Erstellungsjahre von Tweets mit Trump-freundlichen Hashtags."
   ]
  },
  {
   "cell_type": "code",
   "execution_count": 20,
   "metadata": {},
   "outputs": [
    {
     "data": {
      "text/plain": [
       "<BarContainer object of 14 artists>"
      ]
     },
     "execution_count": 20,
     "metadata": {},
     "output_type": "execute_result"
    },
    {
     "data": {
      "image/png": "[encoded data removed]",
      "text/plain": [
       "<Figure size 432x288 with 1 Axes>"
      ]
     },
     "metadata": {
      "needs_background": "light"
     },
     "output_type": "display_data"
    }
   ],
   "source": [
    "fig, ax = plt.subplots()\n",
    "key_data, value_data = created(True)\n",
    "ax.barh(key_data, value_data)"
   ]
  },
  {
   "cell_type": "markdown",
   "metadata": {},
   "source": [
    "Folgende Grafik zeigt die Verteilung der Account-Erstellungsjahre von Tweets mit Biden-freundlichen Hashtags."
   ]
  },
  {
   "cell_type": "code",
   "execution_count": 21,
   "metadata": {},
   "outputs": [
    {
     "data": {
      "text/plain": [
       "<BarContainer object of 14 artists>"
      ]
     },
     "execution_count": 21,
     "metadata": {},
     "output_type": "execute_result"
    },
    {
     "data": {
      "image/png": "[encoded data removed]",
      "text/plain": [
       "<Figure size 432x288 with 1 Axes>"
      ]
     },
     "metadata": {
      "needs_background": "light"
     },
     "output_type": "display_data"
    }
   ],
   "source": [
    "fig, ax = plt.subplots()\n",
    "key_data, value_data = created(False)\n",
    "ax.barh(key_data, value_data)"
   ]
  },
  {
   "cell_type": "markdown",
   "metadata": {},
   "source": [
    "Es ist zu sehen, dass bei den Accounts mit Trump-freundlichen Tweets das Erstellungsjahr zu einem Großteil 2020 ist. Während 1.200 der Accounts 2020 erstellt wurden, ist das nächste Jahr (2009) nur mit knapp 600 Accounts vertreten. Die Vermutung, warum viele Accounts auch 2009 erstellt wurden, deckt sich mit der oben bereits getätigten Aussage, dass in diesem Jahr ein Republikaner die Präsidentschaftswahl verloren hat und diejenigen, die damals einen Account erstellten, eine ähnliche Meinung in 2020 vertreten.\n",
    "\n",
    "Vergleicht man die Ergebnisse mit denen der Biden-freundlichen Hashtags, sieht man, dass der Unterschied nicht so stark ist. So wurden zwar hier auch die meisten Accounts in 2020 erstellt, jedoch ist der Abstand – wohlgemerkt bei einer geringeren Ausgangsmenge – kleiner.\n",
    "\n",
    "Es ist wichtig zu betrachten, dass sich die Skalen auf der x-Achse unterscheiden."
   ]
  },
  {
   "cell_type": "markdown",
   "metadata": {},
   "source": [
    "<div style=\"page-break-after: always;\"></div>\n",
    "\n",
    "## Fazit\n",
    "Insgesamt lassen sich die Ergebnisse erneut lediglich als Vermutungen beschreiben, da die Ausgangsmenge an Daten nicht groß genug für eine fundamentierte Schlussfolgerung ist. Nichtsdestotrotz bieten die Analysen interessante Einblicke in das Tweet-Verhalten der Nutzer und erlaubt es, Vermutungen herzuleiten und Tendenzen zu erkennen."
   ]
  },
  {
   "cell_type": "markdown",
   "metadata": {},
   "source": [
    "<div style=\"page-break-after: always;\"></div>\n",
    "\n",
    "# Anhang\n",
    "Die Bearbeitung der einzelnen Abschnitte fand folgendermaßen statt:\n",
    "\n",
    "+ Einleitung: Redmann\n",
    "+ Komponente `request.py` und `kafka_publish.py`: Wortmann\n",
    "+ Komponente `consumer.py`: Redmann\n",
    "+ Containerisierung: Wortmann\n",
    "+ Abschnitt \"Füllwörter, Datenbankverbindung, Daten laden\": Redmann\n",
    "+ Abschnitt \"Rausfiltern der Tweet-Inhalte\": Wortmann\n",
    "+ Abschnitt \"Top-3 Wörter & Durchschnittliches Alter\": Redmann\n",
    "+ Abschnitt \"Tiefere Analyse\": Wortmann\n",
    "+ Abschnitt \"Untersuchung von negativen Wörtern\": Redmann\n",
    "+ Abschnitt \"Untersuchung von positiven Wörtern\": Wortmann\n",
    "+ Abschnitt \"Analyse von Hashtags und Verwendung von negativen/positiven Wörtern\": Redmann\n",
    "+ Abschnitt \"Account-Alter & Fazit\": Wortmann"
   ]
  }
 ],
 "metadata": {
  "kernelspec": {
   "display_name": "Python 3",
   "language": "python",
   "name": "python3"
  },
  "language_info": {
   "codemirror_mode": {
    "name": "ipython",
    "version": 3
   },
   "file_extension": ".py",
   "mimetype": "text/x-python",
   "name": "python",
   "nbconvert_exporter": "python",
   "pygments_lexer": "ipython3",
   "version": "3.8.5"
  }
 },
 "nbformat": 4,
 "nbformat_minor": 4
}
